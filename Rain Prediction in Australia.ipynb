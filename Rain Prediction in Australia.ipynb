{
 "cells": [
  {
   "cell_type": "markdown",
   "metadata": {},
   "source": [
    "# Assignment 2"
   ]
  },
  {
   "cell_type": "markdown",
   "metadata": {},
   "source": [
    "# Rain in Australia: Predict rain tomorrow in Australia\n",
    "# Student Name: Sohail Sankanur\n",
    "# Student ID: 29996368"
   ]
  },
  {
   "cell_type": "markdown",
   "metadata": {},
   "source": [
    "Predicting Rain is a very common problem in machine learning. There can be different machine learning models which could be implemented for prediction of rain. In this assignment we are going to use some machine learning models to predict whether it would rain in the future based on some past features. \n",
    "\n",
    "In this assignment we are going to use the tools of machine learning to predict and visualise the possibility of rainfall in Australia."
   ]
  },
  {
   "cell_type": "markdown",
   "metadata": {},
   "source": [
    "As a initial task of the assignment we are importing all the libraries and functions which we would require in this assignment."
   ]
  },
  {
   "cell_type": "code",
   "execution_count": 1,
   "metadata": {},
   "outputs": [],
   "source": [
    "from collections import Counter \n",
    "from pyspark.sql.functions import isnan, when, count, col\n",
    "from pyspark.sql.functions import *\n",
    "from pyspark.sql.types import IntegerType, DoubleType\n",
    "from pyspark.ml.feature import StringIndexer, OneHotEncoder, VectorAssembler, VectorIndexer\n",
    "from pyspark.ml import Pipeline\n",
    "from pyspark.ml.evaluation import MulticlassClassificationEvaluator\n",
    "from pyspark.ml.classification import DecisionTreeClassifier\n",
    "from pyspark.ml.classification import RandomForestClassifier\n",
    "from pyspark.ml.classification import GBTClassifier\n",
    "from pyspark.ml.classification import LogisticRegression"
   ]
  },
  {
   "cell_type": "markdown",
   "metadata": {},
   "source": [
    "## Part A: Creating Spark Session and Loading the Data"
   ]
  },
  {
   "cell_type": "markdown",
   "metadata": {},
   "source": [
    "In this part of the assignment we create a spark session and load the dataset which is given to us. Loading of the dataset is done using pyspark. We woule use the pyspark dataframe for all further programming."
   ]
  },
  {
   "cell_type": "markdown",
   "metadata": {},
   "source": [
    "### Step 01: Import Spark Session and initialize Spark"
   ]
  },
  {
   "cell_type": "markdown",
   "metadata": {},
   "source": [
    "In this step we will be importing a library called pyspark. Pyspark is a python API for spark. In this we are going to use \"SparkContext\" which is a main entry for Spark functionality. We are also going to use \"SparkConf\" which is used for configuring Spark. Now our first step would be to import SparkContext and SparkConf libraries from pyspark"
   ]
  },
  {
   "cell_type": "code",
   "execution_count": 2,
   "metadata": {},
   "outputs": [],
   "source": [
    "from pyspark import SparkContext # Spark\n",
    "from pyspark.sql import SparkSession # Spark SQL"
   ]
  },
  {
   "cell_type": "markdown",
   "metadata": {},
   "source": [
    "Now that we have imported the required libraries we now use this to create a Spark Session, initialize it and configure Spark to be used."
   ]
  },
  {
   "cell_type": "code",
   "execution_count": 3,
   "metadata": {},
   "outputs": [],
   "source": [
    "import os\n",
    "os.environ['PYSPARK_SUBMIT_ARGS'] = '--packages org.mongodb.spark:mongo-spark-connector_2.11:2.4.0 pyspark-shell'\n",
    "# create entry points to spark\n",
    "\n",
    "# We add this line to avoid an error : \"Cannot run multiple SparkContexts at once\". \n",
    "# If there is an existing spark context, we will reuse it instead of creating a new context.\n",
    "sc = SparkContext.getOrCreate()\n",
    "\n",
    "# local[*]: run Spark locally with as many working processors as logical cores on your machine.\n",
    "# In the field of `master`, we use a local server with as many working processors (or threads) as possible (i.e. `local[*]`). \n",
    "# If we want Spark to run locally with 'k' worker threads, we can specify as `local[k]`.\n",
    "# The `appName` field is a name to be shown on the Sparking cluster UI. \n",
    "\n",
    "# If there is no existing spark context, we now create a new context\n",
    "if (sc is None):\n",
    "    sc = SparkContext(master=\"local[4]\")\n",
    "spark = SparkSession(sparkContext=sc)\\\n",
    "        .builder\\\n",
    "        .appName(\"Assignment2 Application\")\\\n",
    "        .config(\"spark.mongodb.input.uri\", \"mongodb://127.0.0.1/fit5202_db.wk05_demo\")\\\n",
    "        .config(\"spark.mongodb.output.uri\", \"mongodb://127.0.0.1/fit5202_db.wk05_demo\")\\\n",
    "        .getOrCreate()"
   ]
  },
  {
   "cell_type": "markdown",
   "metadata": {},
   "source": [
    "### Step 02: Load the dataset and print the schema and total number of entries"
   ]
  },
  {
   "cell_type": "markdown",
   "metadata": {},
   "source": [
    "In this step we create a dataframe of the csv file data which is given to us. We can read the data from the csv file as a dataframe using pyspark. As seen we specify header as True which means that the first row of the data would be taken as a heading for all the columns in the dataframe."
   ]
  },
  {
   "cell_type": "code",
   "execution_count": 4,
   "metadata": {},
   "outputs": [],
   "source": [
    "# code to read the csv file using spark session\n",
    "weather_df = spark.read.csv('weatherAUS.csv', header = True)"
   ]
  },
  {
   "cell_type": "markdown",
   "metadata": {},
   "source": [
    "Now that we have read the data into a dataframe we now print the total number of entries in the dataframe. This can be done using the 'count' function in pyspark."
   ]
  },
  {
   "cell_type": "code",
   "execution_count": 5,
   "metadata": {},
   "outputs": [
    {
     "data": {
      "text/plain": [
       "142193"
      ]
     },
     "execution_count": 5,
     "metadata": {},
     "output_type": "execute_result"
    }
   ],
   "source": [
    "# code for printing the number of lines in the spark dataframe\n",
    "weather_df.count()"
   ]
  },
  {
   "cell_type": "markdown",
   "metadata": {},
   "source": [
    "As seen from the above output there are 142193 entries in the dataframe."
   ]
  },
  {
   "cell_type": "markdown",
   "metadata": {},
   "source": [
    "## Part B: Data Cleaning and Processing"
   ]
  },
  {
   "cell_type": "markdown",
   "metadata": {},
   "source": [
    "In this part of the assignment the dataset is cleaned and all the pre processing tasks is done on the dataset."
   ]
  },
  {
   "cell_type": "markdown",
   "metadata": {},
   "source": [
    "### Step 03: Delete columns from the dataset"
   ]
  },
  {
   "cell_type": "markdown",
   "metadata": {},
   "source": [
    "In data cleaning we remove all unnecessary data from the dataset so that the accuracy of the model could be improved. Some columns from the dataset would not be required for prediction task. Hence in this step we delete certain columns from the dataset.\n",
    "The columns which are being removed are:\n",
    "* Date\n",
    "* Location\n",
    "* Evaporation\n",
    "* Sunshine\n",
    "* Cloud9am\n",
    "* Cloud3pm\n",
    "* Temp9am\n",
    "* Temp3pm"
   ]
  },
  {
   "cell_type": "code",
   "execution_count": 6,
   "metadata": {},
   "outputs": [
    {
     "data": {
      "text/plain": [
       "['Date',\n",
       " 'Location',\n",
       " 'MinTemp',\n",
       " 'MaxTemp',\n",
       " 'Rainfall',\n",
       " 'Evaporation',\n",
       " 'Sunshine',\n",
       " 'WindGustDir',\n",
       " 'WindGustSpeed',\n",
       " 'WindDir9am',\n",
       " 'WindDir3pm',\n",
       " 'WindSpeed9am',\n",
       " 'WindSpeed3pm',\n",
       " 'Humidity9am',\n",
       " 'Humidity3pm',\n",
       " 'Pressure9am',\n",
       " 'Pressure3pm',\n",
       " 'Cloud9am',\n",
       " 'Cloud3pm',\n",
       " 'Temp9am',\n",
       " 'Temp3pm',\n",
       " 'RainToday',\n",
       " 'RainTomorrow']"
      ]
     },
     "execution_count": 6,
     "metadata": {},
     "output_type": "execute_result"
    }
   ],
   "source": [
    "weather_df.columns"
   ]
  },
  {
   "cell_type": "markdown",
   "metadata": {},
   "source": [
    "Columns from the pyspark dataframe can be removed using the drop function. Inside the parameters which would be passed are the names of the columns which have to be dropped."
   ]
  },
  {
   "cell_type": "code",
   "execution_count": 7,
   "metadata": {},
   "outputs": [],
   "source": [
    "df_weather_modified = weather_df.drop('Date', 'Location', 'Evaporation', 'Sunshine', 'Cloud9am', 'Cloud3pm', 'Temp9am', 'Temp3pm')"
   ]
  },
  {
   "cell_type": "markdown",
   "metadata": {},
   "source": [
    "After dropping the unnecessary columns then new dataframe would have these set of columns."
   ]
  },
  {
   "cell_type": "code",
   "execution_count": 8,
   "metadata": {},
   "outputs": [
    {
     "data": {
      "text/plain": [
       "['Date',\n",
       " 'Location',\n",
       " 'MinTemp',\n",
       " 'MaxTemp',\n",
       " 'Rainfall',\n",
       " 'Evaporation',\n",
       " 'Sunshine',\n",
       " 'WindGustDir',\n",
       " 'WindGustSpeed',\n",
       " 'WindDir9am',\n",
       " 'WindDir3pm',\n",
       " 'WindSpeed9am',\n",
       " 'WindSpeed3pm',\n",
       " 'Humidity9am',\n",
       " 'Humidity3pm',\n",
       " 'Pressure9am',\n",
       " 'Pressure3pm',\n",
       " 'Cloud9am',\n",
       " 'Cloud3pm',\n",
       " 'Temp9am',\n",
       " 'Temp3pm',\n",
       " 'RainToday',\n",
       " 'RainTomorrow']"
      ]
     },
     "execution_count": 8,
     "metadata": {},
     "output_type": "execute_result"
    }
   ],
   "source": [
    "weather_df.columns"
   ]
  },
  {
   "cell_type": "markdown",
   "metadata": {},
   "source": [
    "### Step 04: Print the number of missing data in each column"
   ]
  },
  {
   "cell_type": "markdown",
   "metadata": {},
   "source": [
    "In this step we have to print the **number of missing data in each column**.\n",
    "\n",
    "As seen from the dataset and assignment specification we can see that the missing values in the dataset is **'NA'**. Hence we find the number of NA values in each column and print it out. \n",
    "\n",
    "We can find the number of 'NA' values in each column in the dataframe using the pyspark select function."
   ]
  },
  {
   "cell_type": "code",
   "execution_count": 9,
   "metadata": {},
   "outputs": [
    {
     "data": {
      "text/plain": [
       "[Row(MinTemp=637, MaxTemp=322, Rainfall=1406, WindGustDir=9330, WindGustSpeed=9270, WindDir9am=10013, WindDir3pm=3778, WindSpeed9am=1348, WindSpeed3pm=2630, Humidity9am=1774, Humidity3pm=3610, Pressure9am=14014, Pressure3pm=13981, RainToday=1406, RainTomorrow=0)]"
      ]
     },
     "execution_count": 9,
     "metadata": {},
     "output_type": "execute_result"
    }
   ],
   "source": [
    "# code to find the number of na values in a column in the modified dataframe\n",
    "df_weather_modified.select([count(when(df_weather_modified[c] == 'NA', c)).alias(c) for c \n",
    "                            in df_weather_modified.columns]).collect()\n"
   ]
  },
  {
   "cell_type": "markdown",
   "metadata": {},
   "source": [
    "In an alternative way we can find the number of 'NA' values in each column by iterating through the columns. The code for this is as follows."
   ]
  },
  {
   "cell_type": "code",
   "execution_count": 10,
   "metadata": {},
   "outputs": [
    {
     "name": "stdout",
     "output_type": "stream",
     "text": [
      "The number of empty rows in column  MinTemp  is:  637\n",
      "The number of empty rows in column  MaxTemp  is:  322\n",
      "The number of empty rows in column  Rainfall  is:  1406\n",
      "The number of empty rows in column  WindGustDir  is:  9330\n",
      "The number of empty rows in column  WindGustSpeed  is:  9270\n",
      "The number of empty rows in column  WindDir9am  is:  10013\n",
      "The number of empty rows in column  WindDir3pm  is:  3778\n",
      "The number of empty rows in column  WindSpeed9am  is:  1348\n",
      "The number of empty rows in column  WindSpeed3pm  is:  2630\n",
      "The number of empty rows in column  Humidity9am  is:  1774\n",
      "The number of empty rows in column  Humidity3pm  is:  3610\n",
      "The number of empty rows in column  Pressure9am  is:  14014\n",
      "The number of empty rows in column  Pressure3pm  is:  13981\n",
      "The number of empty rows in column  RainToday  is:  1406\n",
      "The number of empty rows in column  RainTomorrow  is:  0\n"
     ]
    }
   ],
   "source": [
    "for i in df_weather_modified.columns:\n",
    "    print('The number of empty rows in column ',i, ' is: ',df_weather_modified[df_weather_modified[i] == 'NA'].count())\n",
    "    "
   ]
  },
  {
   "cell_type": "markdown",
   "metadata": {},
   "source": [
    "### Step 05: Fill the missing data with average value and maximum occurrence value"
   ]
  },
  {
   "cell_type": "markdown",
   "metadata": {},
   "source": [
    "In this step you have to fill in all the missing data with average value (for numeric column) or maximum frequency value (for non-numeric column).\n",
    "\n",
    "In this step we find the columns which have **numeric values**, calculate the average and fill the **null values with the average values**.\n",
    "\n",
    "We also identify the **non numeric values** and in these columns we replace the **null values with the most frequent occuring item**."
   ]
  },
  {
   "cell_type": "markdown",
   "metadata": {},
   "source": [
    "Code for this would be as follows:"
   ]
  },
  {
   "cell_type": "code",
   "execution_count": 11,
   "metadata": {},
   "outputs": [],
   "source": [
    "# code to remove all null values from the dataset\n",
    "''' Rules for reoving the null values are:\n",
    "    >> If the type is numeric then we replace all NA values with mean values\n",
    "    >> If the type is non numeric then we replace all NA values with highest frequency term'''\n",
    "\n",
    "df_weather_null = df_weather_modified\n",
    "\n",
    "for i in df_weather_null.columns:\n",
    "    if df_weather_null.select(i).head()[0].replace('.','').isdigit():\n",
    "        df_weather_null = df_weather_null.withColumn(i, regexp_replace(i, 'NA', \n",
    "                           df_weather_modified.select(i).withColumn(i, df_weather_modified[i].cast(IntegerType())).\n",
    "                            describe().collect()[1][1] ))\n",
    "    else:\n",
    "        df_weather_null = df_weather_null.withColumn(i, regexp_replace(i, 'NA', \n",
    "                            Counter(df_weather_modified.select(i).collect()).most_common(1)[0][0][0]))\n",
    "    "
   ]
  },
  {
   "cell_type": "markdown",
   "metadata": {},
   "source": [
    "### Step 06: Data transformation"
   ]
  },
  {
   "cell_type": "markdown",
   "metadata": {},
   "source": [
    "In this step we need to transform the dataset so that it would be possible to process by machine learning. \n",
    "\n",
    "Firstly for non numeric data we have to use the **StringIndexer** function from pyspark to convert it into a number. Then we would typecast them to double format. For numeric columns we would directly typecast it into double format.\n",
    "\n",
    "Code for this would be as follows:"
   ]
  },
  {
   "cell_type": "code",
   "execution_count": 12,
   "metadata": {},
   "outputs": [],
   "source": [
    "df_weather_null_d = df_weather_null\n",
    "for i in df_weather_null.columns:\n",
    "    if df_weather_null.select(i).head()[0].replace('.','').isdigit():\n",
    "        df_weather_null_d = df_weather_null_d.withColumn(i, df_weather_null_d[i].cast(DoubleType()))\n",
    "    else:\n",
    "        indexer = StringIndexer(inputCol=i, outputCol=i+'i').fit(df_weather_null_d)\n",
    "        df_weather_null_d = indexer.transform(df_weather_null_d)\n",
    "        df_weather_null_d  = df_weather_null_d.drop(i)\n",
    "        df_weather_null_d = df_weather_null_d.withColumnRenamed(i+'i', i)"
   ]
  },
  {
   "cell_type": "code",
   "execution_count": 13,
   "metadata": {},
   "outputs": [
    {
     "data": {
      "text/plain": [
       "[('MinTemp', 'double'),\n",
       " ('MaxTemp', 'double'),\n",
       " ('Rainfall', 'double'),\n",
       " ('WindGustSpeed', 'double'),\n",
       " ('WindSpeed9am', 'double'),\n",
       " ('WindSpeed3pm', 'double'),\n",
       " ('Humidity9am', 'double'),\n",
       " ('Humidity3pm', 'double'),\n",
       " ('Pressure9am', 'double'),\n",
       " ('Pressure3pm', 'double'),\n",
       " ('WindGustDir', 'double'),\n",
       " ('WindDir9am', 'double'),\n",
       " ('WindDir3pm', 'double'),\n",
       " ('RainToday', 'double'),\n",
       " ('RainTomorrow', 'double')]"
      ]
     },
     "execution_count": 13,
     "metadata": {},
     "output_type": "execute_result"
    }
   ],
   "source": [
    "df_weather_null_d.dtypes"
   ]
  },
  {
   "cell_type": "markdown",
   "metadata": {},
   "source": [
    "As seen from the above output we can see that all the columns have the double format."
   ]
  },
  {
   "cell_type": "code",
   "execution_count": 14,
   "metadata": {},
   "outputs": [
    {
     "data": {
      "text/plain": [
       "Row(MinTemp='13.4', MaxTemp='22.9', Rainfall='0.6', WindGustDir='W', WindGustSpeed='44', WindDir9am='W', WindDir3pm='WNW', WindSpeed9am='20', WindSpeed3pm='24', Humidity9am='71', Humidity3pm='22', Pressure9am='1007.7', Pressure3pm='1007.1', RainToday='No', RainTomorrow='No')"
      ]
     },
     "execution_count": 14,
     "metadata": {},
     "output_type": "execute_result"
    }
   ],
   "source": [
    "df_weather_null.head()"
   ]
  },
  {
   "cell_type": "code",
   "execution_count": 15,
   "metadata": {},
   "outputs": [
    {
     "data": {
      "text/plain": [
       "Row(MinTemp=13.4, MaxTemp=22.9, Rainfall=0.6, WindGustSpeed=44.0, WindSpeed9am=20.0, WindSpeed3pm=24.0, Humidity9am=71.0, Humidity3pm=22.0, Pressure9am=1007.7, Pressure3pm=1007.1, WindGustDir=0.0, WindDir9am=6.0, WindDir3pm=7.0, RainToday=0.0, RainTomorrow=0.0)"
      ]
     },
     "execution_count": 15,
     "metadata": {},
     "output_type": "execute_result"
    }
   ],
   "source": [
    "df_weather_null_d.head()"
   ]
  },
  {
   "cell_type": "markdown",
   "metadata": {},
   "source": [
    "As seen from the above output we can see that all the non numeric columns have been converted to double format numbers and all numeric columns have been converted to double format numbers as well."
   ]
  },
  {
   "cell_type": "markdown",
   "metadata": {},
   "source": [
    "### Step 07: Create the feature vector and divide the dataset"
   ]
  },
  {
   "cell_type": "markdown",
   "metadata": {},
   "source": [
    "A feature vector can be defined as a vector which contains information describing the objects most important characteristics. In this step of the assignment we have to create a feature vector from the given columns. When we create a feature vector we have to remember to exclude the models which we would be using the test the accuracy of our model.\n",
    "\n",
    "After creating the feature vecor we would divide the dataset into train data and test data. In machine learning we ususlly divide the dataset into 70% and 30%. 70% of the data would be the training data which would be used for training the machine learning model which we would build. The rest 30% of the data would be used as test dataset which would be used to test the accuracy of the model which we build."
   ]
  },
  {
   "cell_type": "markdown",
   "metadata": {},
   "source": [
    "#### Creating feature vector which could be used for machine learning"
   ]
  },
  {
   "cell_type": "markdown",
   "metadata": {},
   "source": [
    "Now as the first task in this step we would make a vector column. This can be done using the VectorAssembler function of pyspark. As seen we give the input columns and the output column woule be the features column. Using this we make the feature column which is a vector which could be used in machine learning."
   ]
  },
  {
   "cell_type": "code",
   "execution_count": 16,
   "metadata": {},
   "outputs": [],
   "source": [
    "assembler = VectorAssembler(\n",
    "    inputCols=[\"MinTemp\", \"MaxTemp\", \"Rainfall\",\"WindGustSpeed\",'WindSpeed9am','WindSpeed3pm','Humidity9am',\n",
    "               'Humidity3pm','Pressure9am','Pressure3pm','WindGustDir','WindDir9am','WindDir3pm','RainToday'],\n",
    "    outputCol=\"features\")\n",
    "\n",
    "df_weather_features = assembler.transform(df_weather_null_d)"
   ]
  },
  {
   "cell_type": "code",
   "execution_count": 17,
   "metadata": {},
   "outputs": [
    {
     "data": {
      "text/plain": [
       "Row(MinTemp=13.4, MaxTemp=22.9, Rainfall=0.6, WindGustSpeed=44.0, WindSpeed9am=20.0, WindSpeed3pm=24.0, Humidity9am=71.0, Humidity3pm=22.0, Pressure9am=1007.7, Pressure3pm=1007.1, WindGustDir=0.0, WindDir9am=6.0, WindDir3pm=7.0, RainToday=0.0, RainTomorrow=0.0, features=DenseVector([13.4, 22.9, 0.6, 44.0, 20.0, 24.0, 71.0, 22.0, 1007.7, 1007.1, 0.0, 6.0, 7.0, 0.0]))"
      ]
     },
     "execution_count": 17,
     "metadata": {},
     "output_type": "execute_result"
    }
   ],
   "source": [
    "df_weather_features.head()"
   ]
  },
  {
   "cell_type": "markdown",
   "metadata": {},
   "source": [
    "As seen from the output we can see that we have the vector column named as features."
   ]
  },
  {
   "cell_type": "markdown",
   "metadata": {},
   "source": [
    "#### Splitting the Data into training and testing datasets"
   ]
  },
  {
   "cell_type": "markdown",
   "metadata": {},
   "source": [
    "The next task in this step would be to split the dataset into **training and testing dataset**. As seen the dataset is split into 70,30. Where in **70% of the dataset would be considered as the training data** which would be used to train the machine learning model and **30% of the dataset would be the testing data** which would be used for testing how the machine learning model would perform.\n",
    "\n",
    "Usually in machine learning we would **train the model using the training data** and then we **perform predictions on the test data**. Now in the test dataset we would have the actual label values and the predicted label values. Using this we would compare the actual label vales and the value which was predicted and based on this we would see the accuracy of the model."
   ]
  },
  {
   "cell_type": "code",
   "execution_count": 18,
   "metadata": {},
   "outputs": [],
   "source": [
    "# dividing the dataset into training and testing datasets\n",
    "# Split data into training (70%) and testing (30%)\n",
    "seed = 0  # set seed for reproducibility\n",
    "trainDF, testDF = df_weather_features.randomSplit([0.7,0.3], seed)"
   ]
  },
  {
   "cell_type": "markdown",
   "metadata": {},
   "source": [
    "Now we have split the dataset into training and testing dataset. The number of rows in the train and test dataset would be as follows."
   ]
  },
  {
   "cell_type": "code",
   "execution_count": 19,
   "metadata": {},
   "outputs": [
    {
     "name": "stdout",
     "output_type": "stream",
     "text": [
      "Number of training data:  99799\n",
      "Number of test data:  42394\n"
     ]
    }
   ],
   "source": [
    "print(\"Number of training data: \", trainDF.count())\n",
    "print(\"Number of test data: \", testDF.count())"
   ]
  },
  {
   "cell_type": "markdown",
   "metadata": {},
   "source": [
    "## Part C: Apply Machine Learning Algorithms"
   ]
  },
  {
   "cell_type": "markdown",
   "metadata": {},
   "source": [
    "In this part of the assignment we apply different machine learning on the dataset and compare their accuracy. As we can see this is a classification problem hence we would apply machine learning models which would perform classification.\n",
    "\n",
    "The models whicha are going to apply on the dataset are:\n",
    "* Decision Tree Classifier\n",
    "* Random Forest Classifier\n",
    "* Logistic Regression\n",
    "* GBT Classifier"
   ]
  },
  {
   "cell_type": "markdown",
   "metadata": {},
   "source": [
    "### Step 08: Apply machine learning classification algorithms on the dataset and compare their accuracy. Plot the accuracy as bar graph."
   ]
  },
  {
   "cell_type": "markdown",
   "metadata": {},
   "source": [
    "In this step we would apply classification machine learning models and compare the accuracy. The first model which we would apply to the dataset is Decision Tree Classifier. This can be done using the DecisionTreeClassifier method from the pyspark ml framework."
   ]
  },
  {
   "cell_type": "markdown",
   "metadata": {},
   "source": [
    "The model can be applied on the dataset using the fit method and using the transform method we would predict the values of the label column. The fit is done on the training dataset and the transform is done on the test dataset. code for this is as follows: "
   ]
  },
  {
   "cell_type": "markdown",
   "metadata": {},
   "source": [
    "### Model1: Decision Tree Classifier"
   ]
  },
  {
   "cell_type": "code",
   "execution_count": 20,
   "metadata": {},
   "outputs": [],
   "source": [
    "# Train a DecisionTree model.\n",
    "dt = DecisionTreeClassifier(labelCol=\"RainTomorrow\", featuresCol=\"features\")\n",
    "model = dt.fit(trainDF) # fitting the model with the training data\n",
    "predictions_dt = model.transform(testDF) # performing the predictions on test data using the Decision \n",
    "                                         # Tree model which is create"
   ]
  },
  {
   "cell_type": "markdown",
   "metadata": {},
   "source": [
    "Now that we have done the predictions we would see the accuracy of the model. Accuracy of the model is done with the help of the MulticlassClassificationEvaluator method of the pyspark evaluation library."
   ]
  },
  {
   "cell_type": "code",
   "execution_count": 21,
   "metadata": {},
   "outputs": [
    {
     "name": "stdout",
     "output_type": "stream",
     "text": [
      "Accuracy of the Decision Tree Classifier model is:  82.00235971625308\n",
      "Test Error = 0.179976 \n"
     ]
    }
   ],
   "source": [
    "evaluator = MulticlassClassificationEvaluator(\n",
    "    labelCol=\"RainTomorrow\", predictionCol=\"prediction\")\n",
    "accuracy = evaluator.evaluate(predictions_dt)\n",
    "dt_accuracy = accuracy*100\n",
    "print(\"Accuracy of the Decision Tree Classifier model is: \", dt_accuracy)\n",
    "print(\"Test Error = %g \" % (1.0 - accuracy))"
   ]
  },
  {
   "cell_type": "markdown",
   "metadata": {},
   "source": [
    "As seen from the above output the accuracy of the Decision Tree Classifier model is around 82."
   ]
  },
  {
   "cell_type": "markdown",
   "metadata": {},
   "source": [
    "### Model2: Random Forest Classifier"
   ]
  },
  {
   "cell_type": "markdown",
   "metadata": {},
   "source": [
    "Now we would use the Random Forest Classifier model. This can be done using the RandomForestClassifier methid of the pyspark ml library. Code for this is as follows:"
   ]
  },
  {
   "cell_type": "code",
   "execution_count": 22,
   "metadata": {},
   "outputs": [],
   "source": [
    "rf = RandomForestClassifier(labelCol=\"RainTomorrow\", featuresCol=\"features\")\n",
    "model = rf.fit(trainDF)\n",
    "predictions_rf = model.transform(testDF)"
   ]
  },
  {
   "cell_type": "markdown",
   "metadata": {},
   "source": [
    "Now that we have applied the RandomForest Classifier on the dataset we would find the accuracy of this model."
   ]
  },
  {
   "cell_type": "code",
   "execution_count": 23,
   "metadata": {},
   "outputs": [
    {
     "name": "stdout",
     "output_type": "stream",
     "text": [
      "Accuracy of the Random Forest Classifier model is:  81.40446045082305\n",
      "Test Error = 0.185955 \n"
     ]
    }
   ],
   "source": [
    "evaluator = MulticlassClassificationEvaluator(\n",
    "    labelCol=\"RainTomorrow\", predictionCol=\"prediction\")\n",
    "accuracy = evaluator.evaluate(predictions_rf)\n",
    "rf_accuracy = accuracy*100\n",
    "print(\"Accuracy of the Random Forest Classifier model is: \", accuracy*100)\n",
    "print(\"Test Error = %g \" % (1.0 - accuracy))"
   ]
  },
  {
   "cell_type": "markdown",
   "metadata": {},
   "source": [
    "As seen from the above output the accuracy of the Random Forest Classifier model is around 81."
   ]
  },
  {
   "cell_type": "markdown",
   "metadata": {},
   "source": [
    "### Model3: Logistic Regression"
   ]
  },
  {
   "cell_type": "markdown",
   "metadata": {},
   "source": [
    "The third model which we are going to use is the Logistic Regression Model. This can be done using the LogisticRegression method of the pyspark ml library."
   ]
  },
  {
   "cell_type": "code",
   "execution_count": 24,
   "metadata": {},
   "outputs": [
    {
     "name": "stdout",
     "output_type": "stream",
     "text": [
      "Accuracy of the Logistic Regression Model is:  83.72428581448712\n"
     ]
    }
   ],
   "source": [
    "lr = LogisticRegression(labelCol=\"RainTomorrow\",featuresCol=\"features\")\n",
    "lrModel = lr.fit(trainDF)\n",
    "predictions_lr = lrModel.transform(testDF)\n",
    "\n",
    "trainingSummary = lrModel.summary\n",
    "lr_accuracy = trainingSummary.accuracy * 100\n",
    "print(\"Accuracy of the Logistic Regression Model is: \", lr_accuracy)"
   ]
  },
  {
   "cell_type": "markdown",
   "metadata": {},
   "source": [
    "We have applied the Logistic Regression model on the dataset. The logistic regression model would have summary and from the summary of the model we can see he accuracy of the model is around 84."
   ]
  },
  {
   "cell_type": "code",
   "execution_count": 25,
   "metadata": {},
   "outputs": [
    {
     "name": "stdout",
     "output_type": "stream",
     "text": [
      "Accuracy of the Logistic Regression model is:  84.05434731329905\n",
      "Test Error = 0.159457 \n"
     ]
    }
   ],
   "source": [
    "evaluator = MulticlassClassificationEvaluator(\n",
    "    labelCol=\"RainTomorrow\", predictionCol=\"prediction\", metricName=\"accuracy\")\n",
    "accuracy = evaluator.evaluate(predictions_lr)\n",
    "lr_accuracy = accuracy*100\n",
    "print(\"Accuracy of the Logistic Regression model is: \", accuracy*100)\n",
    "print(\"Test Error = %g \" % (1.0 - accuracy))"
   ]
  },
  {
   "cell_type": "markdown",
   "metadata": {},
   "source": [
    "Using the MulticlassClassificationEvaluator we can see that the accuracy of the model is around 84."
   ]
  },
  {
   "cell_type": "markdown",
   "metadata": {},
   "source": [
    "### Model4: GBT Classifier"
   ]
  },
  {
   "cell_type": "markdown",
   "metadata": {},
   "source": [
    "The last model which we are going to apply on the data is the GBT Classifier model. This model is applied using the GBTClassifier method of the pyspark library. The code for using this model to train and perform predictions is as follows."
   ]
  },
  {
   "cell_type": "code",
   "execution_count": 26,
   "metadata": {},
   "outputs": [],
   "source": [
    "gbt = GBTClassifier(labelCol=\"RainTomorrow\", featuresCol=\"features\", maxIter=10)\n",
    "model = gbt.fit(trainDF)\n",
    "predictions_gbt = model.transform(testDF)\n"
   ]
  },
  {
   "cell_type": "markdown",
   "metadata": {},
   "source": [
    "Now that we have applied the model we would see the accuracy of this model by using the MulticlassClassificationEvaluator method."
   ]
  },
  {
   "cell_type": "code",
   "execution_count": 27,
   "metadata": {},
   "outputs": [
    {
     "name": "stdout",
     "output_type": "stream",
     "text": [
      "Accuracy of the GBT Classifier model is:  84.1557767608624\n",
      "Test Error = 0.158442 \n"
     ]
    }
   ],
   "source": [
    "evaluator = MulticlassClassificationEvaluator(\n",
    "    labelCol=\"RainTomorrow\", predictionCol=\"prediction\", metricName=\"accuracy\")\n",
    "accuracy = evaluator.evaluate(predictions_gbt)\n",
    "gbt_accuracy = accuracy*100\n",
    "print(\"Accuracy of the GBT Classifier model is: \", accuracy*100)\n",
    "print(\"Test Error = %g \" % (1.0 - accuracy))"
   ]
  },
  {
   "cell_type": "markdown",
   "metadata": {},
   "source": [
    "As seen the accuracy of the model is around 84."
   ]
  },
  {
   "cell_type": "markdown",
   "metadata": {},
   "source": [
    "### Bar Plot Comparision of different models used for predictions"
   ]
  },
  {
   "cell_type": "markdown",
   "metadata": {},
   "source": [
    "Now that we have the accuracy of all the models we would do a bar plot of the accuracy of all the models and compare them. The code for this is below."
   ]
  },
  {
   "cell_type": "code",
   "execution_count": 28,
   "metadata": {},
   "outputs": [
    {
     "data": {
      "text/plain": [
       "<BarContainer object of 4 artists>"
      ]
     },
     "execution_count": 28,
     "metadata": {},
     "output_type": "execute_result"
    },
    {
     "data": {
      "image/png": "[encoded data removed]",
      "text/plain": [
       "<Figure size 1080x576 with 1 Axes>"
      ]
     },
     "metadata": {
      "needs_background": "light"
     },
     "output_type": "display_data"
    }
   ],
   "source": [
    "import matplotlib.pyplot as plt\n",
    "%matplotlib inline\n",
    "plt.figure(figsize=(15,8))\n",
    "accuracy_matrix = [dt_accuracy, rf_accuracy, lr_accuracy, gbt_accuracy]\n",
    "model_names = ['Decision Tree', 'Random Forest', 'Logistic Regression', 'GBT Classifier']\n",
    "plt.xlabel('Accuracy Values')\n",
    "plt.ylabel('Model Names')\n",
    "plt.title('Bar Plot Comparisions of different models used for predictions')\n",
    "plt.barh(model_names, accuracy_matrix)"
   ]
  },
  {
   "cell_type": "markdown",
   "metadata": {},
   "source": [
    "From the above plot we can see that the accuracy of all the four models is around the 80 to 85 range. Thus we can tell that all the four models are performing very good classification on the given dataset. However if a close comparision of all the models are done then we can see that the GBT Classifier model performs the best out of the given models."
   ]
  },
  {
   "cell_type": "markdown",
   "metadata": {},
   "source": [
    "### Step 09: Calculate the confusion matrix and find the precision, recall, and F1 score of each classification algorithm. Explain how the accuracy of the predication can be improved?"
   ]
  },
  {
   "cell_type": "markdown",
   "metadata": {},
   "source": [
    "Now in this step we have to calculate the precession recall and F1 score for all the models which we have used for performing classification on the given dataset.\n",
    "\n",
    "For doing this we would use the **confusion matrix**. The confusion matrix is considered as the most important metric. A confusion matrix is also known as the error matrix and this is a table which would be used for analysing the performance of an algorithm. Each row would represent instance of a predicted class and each column would represent instance of of an actual class. Using the confusion matrix we can calsulate other metrics such as precession, accuracy, recall and the F1 score of various models which we have used."
   ]
  },
  {
   "cell_type": "markdown",
   "metadata": {},
   "source": [
    "### Decision Tree Metrics"
   ]
  },
  {
   "cell_type": "markdown",
   "metadata": {},
   "source": [
    "The confusion matrix of any model can be obtained using the confusionMatrix function of pyspark. \n",
    "The metrics for the Decision Tree model is as follows:"
   ]
  },
  {
   "cell_type": "code",
   "execution_count": 29,
   "metadata": {},
   "outputs": [
    {
     "name": "stdout",
     "output_type": "stream",
     "text": [
      "Confusion Matrix\n",
      "[[31672.  1294.]\n",
      " [ 5547.  3881.]]\n",
      "\n",
      "Summary Stats\n",
      "Precision of Negative Class (RainTomorrow=False) is = 0.850963217711384\n",
      "Precision of Positive Class (RainTomorrow=True) is =  0.749951690821256\n",
      "Recall of Negative Class (RainTomorrow=False) is =    0.9607474367530182\n",
      "Recall of Positive Class (RainTomorrow=True) is =     0.41164616037335594\n",
      "F1 Score = 0.8386328253998208\n"
     ]
    }
   ],
   "source": [
    "# Metrics for Decision Tree\n",
    "\n",
    "from pyspark.mllib.evaluation import MulticlassMetrics\n",
    "from pyspark.mllib.util import MLUtils\n",
    "predictionAndLabels = predictions_dt.select(['prediction', 'RainTomorrow'])\n",
    "metrics = MulticlassMetrics(predictionAndLabels.rdd.map(list))\n",
    "confusion_mat = metrics.confusionMatrix()\n",
    "print(\"Confusion Matrix\")\n",
    "print(confusion_mat.toArray())\n",
    "# Overall statistics\n",
    "f1Score = metrics.fMeasure()\n",
    "print(\"\\nSummary Stats\")\n",
    "print(\"Precision of Negative Class (RainTomorrow=False) is = %s\" % metrics.precision(0))\n",
    "print(\"Precision of Positive Class (RainTomorrow=True) is =  %s\" % metrics.precision(1))\n",
    "print(\"Recall of Negative Class (RainTomorrow=False) is =    %s\" % metrics.recall(0))\n",
    "print(\"Recall of Positive Class (RainTomorrow=True) is =     %s\" % metrics.recall(1))\n",
    "print(\"F1 Score = %s\" % f1Score)"
   ]
  },
  {
   "cell_type": "markdown",
   "metadata": {},
   "source": [
    "The Precession, Recall and the F1Score can be found by another method. This is by using the confusion matrix values in the formulae. \n",
    "\n",
    "The formulae for Precession is given by:\n",
    "* Precesion = (True Positive)/ (True Positive + False Positive)\n",
    "* Recall = (True Positive)/ (True Positive + False Negative)\n",
    "* F1 Score = 2 * (precesion * recall) / (precesion + recall)"
   ]
  },
  {
   "cell_type": "code",
   "execution_count": 30,
   "metadata": {},
   "outputs": [
    {
     "name": "stdout",
     "output_type": "stream",
     "text": [
      "The precision of the Decision Tree model is:  0.850963217711384\n",
      "The Recall of the Decision Tree model is: 0.9607474367530182\n",
      "The f1 score of the Decision tree model is:  0.9025290304196053\n"
     ]
    }
   ],
   "source": [
    "cm_dt=confusion_mat.toArray()\n",
    "precision_dt=(cm_dt[0][0])/(cm_dt[0][0]+cm_dt[1][0])\n",
    "recall_dt=(cm_dt[0][0])/(cm_dt[0][0]+cm_dt[0][1])\n",
    "f1_dt= 2 * (precision_dt * recall_dt) / (precision_dt + recall_dt)\n",
    "\n",
    "print(\"The precision of the Decision Tree model is: \", precision_dt)\n",
    "print(\"The Recall of the Decision Tree model is:\" , recall_dt)\n",
    "print(\"The f1 score of the Decision tree model is: \",f1_dt)"
   ]
  },
  {
   "cell_type": "markdown",
   "metadata": {},
   "source": [
    "### Random Forest Metrics"
   ]
  },
  {
   "cell_type": "markdown",
   "metadata": {},
   "source": [
    "Now we find the metrics for the random forest classifier. The metrics for the random forest classifier is as follows:"
   ]
  },
  {
   "cell_type": "code",
   "execution_count": 31,
   "metadata": {},
   "outputs": [
    {
     "name": "stdout",
     "output_type": "stream",
     "text": [
      "Confusion Matrix\n",
      "[[31945.  1021.]\n",
      " [ 5895.  3533.]]\n",
      "\n",
      "Summary Stats\n",
      "Precision of Negative Class (RainTomorrow=False) is = 0.8442124735729387\n",
      "Precision of Positive Class (RainTomorrow=True) is =  0.7758014931927976\n",
      "Recall of Negative Class (RainTomorrow=False) is =    0.969028696232482\n",
      "Recall of Positive Class (RainTomorrow=True) is =     0.37473483241408573\n",
      "F1 Score = 0.8368637071283672\n"
     ]
    }
   ],
   "source": [
    "# Confusion matrix for Random Forest\n",
    "\n",
    "from pyspark.mllib.evaluation import MulticlassMetrics\n",
    "from pyspark.mllib.util import MLUtils\n",
    "predictionAndLabels = predictions_rf.select(['prediction', 'RainTomorrow'])\n",
    "metrics = MulticlassMetrics(predictionAndLabels.rdd.map(list))\n",
    "confusion_mat = metrics.confusionMatrix()\n",
    "print(\"Confusion Matrix\")\n",
    "print(confusion_mat.toArray())\n",
    "# Overall statistics\n",
    "f1Score = metrics.fMeasure()\n",
    "print(\"\\nSummary Stats\")\n",
    "print(\"Precision of Negative Class (RainTomorrow=False) is = %s\" % metrics.precision(0))\n",
    "print(\"Precision of Positive Class (RainTomorrow=True) is =  %s\" % metrics.precision(1))\n",
    "print(\"Recall of Negative Class (RainTomorrow=False) is =    %s\" % metrics.recall(0))\n",
    "print(\"Recall of Positive Class (RainTomorrow=True) is =     %s\" % metrics.recall(1))\n",
    "print(\"F1 Score = %s\" % f1Score)"
   ]
  },
  {
   "cell_type": "markdown",
   "metadata": {},
   "source": [
    "Now using the formulae and from the confusion matrix we find the value for precession, recall and f1 score. This is done for the random forest model now. Code is as follows:"
   ]
  },
  {
   "cell_type": "code",
   "execution_count": 32,
   "metadata": {},
   "outputs": [
    {
     "name": "stdout",
     "output_type": "stream",
     "text": [
      "The precision of the Decision Tree model is:  0.8442124735729387\n",
      "The Recall of the Decision Tree model is: 0.969028696232482\n",
      "The f1 score of the Decision tree model is:  0.902324661751829\n"
     ]
    }
   ],
   "source": [
    "cm_rf=confusion_mat.toArray()\n",
    "precision_rf=(cm_rf[0][0])/(cm_rf[0][0]+cm_rf[1][0])\n",
    "recall_rf=(cm_rf[0][0])/(cm_rf[0][0]+cm_rf[0][1])\n",
    "f1_rf= 2 * (precision_rf * recall_rf) / (precision_rf + recall_rf)\n",
    "\n",
    "print(\"The precision of the Decision Tree model is: \", precision_rf)\n",
    "print(\"The Recall of the Decision Tree model is:\" , recall_rf)\n",
    "print(\"The f1 score of the Decision tree model is: \",f1_rf)"
   ]
  },
  {
   "cell_type": "markdown",
   "metadata": {},
   "source": [
    "### Logistic Regression Metrics"
   ]
  },
  {
   "cell_type": "markdown",
   "metadata": {},
   "source": [
    "Now we find the metrics for the Logistic Regression classifier. The metrics for the logistic regression classifier is as follows:"
   ]
  },
  {
   "cell_type": "code",
   "execution_count": 33,
   "metadata": {},
   "outputs": [
    {
     "name": "stdout",
     "output_type": "stream",
     "text": [
      "Confusion Matrix\n",
      "[[31248.  1718.]\n",
      " [ 5042.  4386.]]\n",
      "\n",
      "Summary Stats\n",
      "Precision of Negative Class (RainTomorrow=False) is = 0.8610636538991457\n",
      "Precision of Positive Class (RainTomorrow=True) is =  0.7185452162516383\n",
      "Recall of Negative Class (RainTomorrow=False) is =    0.9478857004186131\n",
      "Recall of Positive Class (RainTomorrow=True) is =     0.46521001272804413\n",
      "F1 Score = 0.8405434731329905\n"
     ]
    }
   ],
   "source": [
    "# Confusion matrix for Logistic Regression\n",
    "\n",
    "from pyspark.mllib.evaluation import MulticlassMetrics\n",
    "from pyspark.mllib.util import MLUtils\n",
    "predictionAndLabels = predictions_lr.select(['prediction', 'RainTomorrow'])\n",
    "metrics = MulticlassMetrics(predictionAndLabels.rdd.map(list))\n",
    "confusion_mat = metrics.confusionMatrix()\n",
    "print(\"Confusion Matrix\")\n",
    "print(confusion_mat.toArray())\n",
    "# Overall statistics\n",
    "f1Score = metrics.fMeasure()\n",
    "print(\"\\nSummary Stats\")\n",
    "print(\"Precision of Negative Class (RainTomorrow=False) is = %s\" % metrics.precision(0))\n",
    "print(\"Precision of Positive Class (RainTomorrow=True) is =  %s\" % metrics.precision(1))\n",
    "print(\"Recall of Negative Class (RainTomorrow=False) is =    %s\" % metrics.recall(0))\n",
    "print(\"Recall of Positive Class (RainTomorrow=True) is =     %s\" % metrics.recall(1))\n",
    "print(\"F1 Score = %s\" % f1Score)"
   ]
  },
  {
   "cell_type": "markdown",
   "metadata": {},
   "source": [
    "Now using the formulae and from the confusion matrix we find the value for precession, recall and f1 score. This is done for the logistic regression model now. Code is as follows:"
   ]
  },
  {
   "cell_type": "code",
   "execution_count": 34,
   "metadata": {},
   "outputs": [
    {
     "name": "stdout",
     "output_type": "stream",
     "text": [
      "The precision of the Decision Tree model is:  0.8610636538991457\n",
      "The Recall of the Decision Tree model is: 0.9478857004186131\n",
      "The f1 score of the Decision tree model is:  0.902391128566478\n"
     ]
    }
   ],
   "source": [
    "cm_lr=confusion_mat.toArray()\n",
    "precision_lr=(cm_lr[0][0])/(cm_lr[0][0]+cm_lr[1][0])\n",
    "recall_lr=(cm_lr[0][0])/(cm_lr[0][0]+cm_lr[0][1])\n",
    "f1_lr= 2 * (precision_lr * recall_lr) / (precision_lr + recall_lr)\n",
    "\n",
    "print(\"The precision of the Decision Tree model is: \", precision_lr)\n",
    "print(\"The Recall of the Decision Tree model is:\" , recall_lr)\n",
    "print(\"The f1 score of the Decision tree model is: \",f1_lr)"
   ]
  },
  {
   "cell_type": "markdown",
   "metadata": {},
   "source": [
    "### GBT Classifier Metrics"
   ]
  },
  {
   "cell_type": "markdown",
   "metadata": {},
   "source": [
    "Now we find the metrics for the gbt classifier. The metrics for the gbt classifier is as follows:"
   ]
  },
  {
   "cell_type": "code",
   "execution_count": 35,
   "metadata": {},
   "outputs": [
    {
     "name": "stdout",
     "output_type": "stream",
     "text": [
      "Confusion Matrix\n",
      "[[31368.  1598.]\n",
      " [ 5119.  4309.]]\n",
      "\n",
      "Summary Stats\n",
      "Precision of Negative Class (RainTomorrow=False) is: 0.8597034560254337\n",
      "Precision of Positive Class (RainTomorrow=True) is:  0.7294735060098189\n",
      "Recall of Negative Class (RainTomorrow=False) is =    0.9515258144755202\n",
      "Recall of Positive Class (RainTomorrow=True) is =     0.45704285108188375\n",
      "F1 Score = 0.8415577676086239\n"
     ]
    }
   ],
   "source": [
    "# Confusion Matrix for GBT Classifier\n",
    "\n",
    "from pyspark.mllib.evaluation import MulticlassMetrics\n",
    "from pyspark.mllib.util import MLUtils\n",
    "predictionAndLabels = predictions_gbt.select(['prediction', 'RainTomorrow'])\n",
    "metrics = MulticlassMetrics(predictionAndLabels.rdd.map(list))\n",
    "confusion_mat = metrics.confusionMatrix()\n",
    "print(\"Confusion Matrix\")\n",
    "print(confusion_mat.toArray())\n",
    "\n",
    "# Overall statistics\n",
    "f1Score = metrics.fMeasure()\n",
    "print(\"\\nSummary Stats\")\n",
    "print(\"Precision of Negative Class (RainTomorrow=False) is: %s\" % metrics.precision(0))\n",
    "print(\"Precision of Positive Class (RainTomorrow=True) is:  %s\" % metrics.precision(1))\n",
    "print(\"Recall of Negative Class (RainTomorrow=False) is =    %s\" % metrics.recall(0))\n",
    "print(\"Recall of Positive Class (RainTomorrow=True) is =     %s\" % metrics.recall(1))\n",
    "print(\"F1 Score = %s\" % f1Score)"
   ]
  },
  {
   "cell_type": "markdown",
   "metadata": {},
   "source": [
    "Now using the formulae and from the confusion matrix we find the value for precession, recall and f1 score. This is done for the gbt classifier model now. Code is as follows:"
   ]
  },
  {
   "cell_type": "code",
   "execution_count": 36,
   "metadata": {},
   "outputs": [
    {
     "name": "stdout",
     "output_type": "stream",
     "text": [
      "The precision of the Decision Tree model is:  0.8597034560254337\n",
      "The Recall of the Decision Tree model is: 0.9515258144755202\n",
      "The f1 score of the Decision tree model is:  0.9032871150274286\n"
     ]
    }
   ],
   "source": [
    "cm_gbt=confusion_mat.toArray()\n",
    "precision_gbt=(cm_gbt[0][0])/(cm_gbt[0][0]+cm_gbt[1][0])\n",
    "recall_gbt=(cm_gbt[0][0])/(cm_gbt[0][0]+cm_gbt[0][1])\n",
    "f1_gbt= 2 * (precision_gbt * recall_gbt) / (precision_gbt + recall_gbt)\n",
    "\n",
    "print(\"The precision of the Decision Tree model is: \", precision_gbt)\n",
    "print(\"The Recall of the Decision Tree model is:\" , recall_gbt)\n",
    "print(\"The f1 score of the Decision tree model is: \",f1_gbt)"
   ]
  },
  {
   "cell_type": "markdown",
   "metadata": {},
   "source": [
    "Now that we have completed finding the accuracy and metrics for all the models we would now create a dataframe of model names along with the accuracy values. This would be as follows."
   ]
  },
  {
   "cell_type": "code",
   "execution_count": 37,
   "metadata": {},
   "outputs": [],
   "source": [
    "from pyspark.sql.types import *\n",
    "\n",
    "cSchema = StructType([StructField(\"Model Names\", StringType()),StructField(\"Accuacy Values\", DoubleType())])\n",
    "\n",
    "accuracy_matrix = [dt_accuracy, rf_accuracy, lr_accuracy, gbt_accuracy]\n",
    "model_names = ['Decision Tree', 'Random Forest', 'Logistic Regression', 'GBT Classifier']\n",
    "test_list = [list(x) for x in zip(model_names, accuracy_matrix)]\n",
    "\n",
    "df = spark.createDataFrame(test_list,schema=cSchema) "
   ]
  },
  {
   "cell_type": "code",
   "execution_count": 38,
   "metadata": {},
   "outputs": [
    {
     "name": "stdout",
     "output_type": "stream",
     "text": [
      "+-------------------+-----------------+\n",
      "|        Model Names|   Accuacy Values|\n",
      "+-------------------+-----------------+\n",
      "|      Decision Tree|82.00235971625308|\n",
      "|      Random Forest|81.40446045082305|\n",
      "|Logistic Regression|84.05434731329905|\n",
      "|     GBT Classifier| 84.1557767608624|\n",
      "+-------------------+-----------------+\n",
      "\n"
     ]
    }
   ],
   "source": [
    "df.show()"
   ]
  },
  {
   "cell_type": "markdown",
   "metadata": {},
   "source": [
    "As seen all the models have more or less the same values for accuracy. **However on very close comparision of accuracy and metrics we can say thay GBT Classifier is the best model for this data and for predicting the rainfall in australia.**"
   ]
  },
  {
   "cell_type": "markdown",
   "metadata": {},
   "source": [
    "### How can we increase the accuracy of the model?"
   ]
  },
  {
   "cell_type": "markdown",
   "metadata": {},
   "source": [
    "This is one of the most frequent questions which is asked in machine learning. However the answer for this is not straightforward and simple.\n",
    "\n",
    "* There could be many ways of increasing the accuracy of a model. One of the best way would be to **get more data**. The more data we have the **more training data we would have and this means that the model would be more accurate and precise**. A more precise model would inturn lead to better accuracy.\n",
    "\n",
    "\n",
    "* Also once we have huge amounts of data this does not mean that the accuracy is going to be better. We have to properly **preprocess** the given data. This means we have to **treat the missing values** for the data and all the **outliers** should be removed from the dataset. The outliers of a dataset could be removed using the boxplot technique.\n",
    "\n",
    "\n",
    "* Also one of the things which we have to do before starting off with machine learning modelling is **feature engineering and feature selection**. A usual dataset would have many columns however all the columns would not be useful in machine learning prediction tasks. Hence we have to find out the best features which would be required for making the model and implementing machine learning algorithms.\n",
    "\n",
    "\n",
    "* **Multiple Algorithms** have to be used for the best results.There are many models for classification technique and using just one model would not be a good way to proceed. For a certain dataset one machine learning model would be good however the same model might not be the best used for another type of data. Hence we have to experiment with multiple models and compare their accuracy and metrics to select the best model.\n",
    "\n",
    "\n",
    "* We could also use **Parameter and Algorithm Tuning**. In some case if we fix the model however the accuracy is still not appriciable we could do parameter/algorithm tuning. In parameter tuning the parameter are tuned by a pyspark method so that the model would get better data and predictions would be more accurate. We can also tune the parameters of the model to achieve higher values of accuracy.\n",
    "\n",
    "\n",
    "* The last way in which we could obtain higher values of accuracy is by **Ensemble methods**. We could use bagging and boosting methods to split the data in the right proportion and to achieve better results in machine learning."
   ]
  },
  {
   "cell_type": "markdown",
   "metadata": {},
   "source": [
    "### References:\n",
    "* Spark Documentation - (https://spark.apache.org/docs/latest)\n",
    "* https://www.analyticsvidhya.com/blog/2015/12/improve-machine-learning-results/\n",
    "* Monash Lectures and Tutorials"
   ]
  },
  {
   "cell_type": "code",
   "execution_count": null,
   "metadata": {},
   "outputs": [],
   "source": []
  }
 ],
 "metadata": {
  "kernelspec": {
   "display_name": "Python 2",
   "language": "python",
   "name": "python2"
  },
  "language_info": {
   "codemirror_mode": {
    "name": "ipython",
    "version": 3
   },
   "file_extension": ".py",
   "mimetype": "text/x-python",
   "name": "python",
   "nbconvert_exporter": "python",
   "pygments_lexer": "ipython3",
   "version": "3.7.3"
  }
 },
 "nbformat": 4,
 "nbformat_minor": 2
}
